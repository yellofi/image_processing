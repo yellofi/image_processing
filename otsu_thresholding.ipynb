{
 "cells": [
  {
   "cell_type": "markdown",
   "id": "d442e9c7-9ad8-4af6-a45c-728f09207ae2",
   "metadata": {
    "tags": []
   },
   "source": [
    "# Otsu thresholding"
   ]
  },
  {
   "cell_type": "markdown",
   "id": "715628e9-3a02-4790-9525-976bb615d022",
   "metadata": {},
   "source": [
    "## Understanding"
   ]
  },
  {
   "cell_type": "markdown",
   "id": "675da6c8-f607-4d49-a2e1-c97143b9b4ac",
   "metadata": {},
   "source": [
    "http://www.labbookpages.co.uk/software/imgProc/otsuThreshold.html#:~:text=Otsu's%20thresholding%20method%20involves%20iterating,fall%20in%20foreground%20or%20background.\n",
    "\n",
    "\n",
    "- Example\n",
    "\n",
    "<img src='./image/otsu_example.png'>\n",
    "<br>\n",
    "\n",
    "- Foreground / Background\n",
    "\n",
    "<img src='./image/otsu_foreground_background_cal.png'>\n",
    "<br>\n",
    "\n",
    "- Result table depending on threshold\n",
    "\n",
    "<img src='./image/otsu_threshold_table.png'>\n",
    "<br>\n",
    "\n",
    "- Within Class Variance and Between Class Variance\n",
    "<br>\n",
    "<img src='./image/otsu_variance_formula.png'>\n",
    "<img src='./image/otsu_variance_table.png'>\n",
    "<br>\n"
   ]
  },
  {
   "cell_type": "code",
   "execution_count": null,
   "id": "5613c532-c20d-47b5-bf80-a71f11ba3a7f",
   "metadata": {},
   "outputs": [],
   "source": []
  },
  {
   "cell_type": "code",
   "execution_count": null,
   "id": "c5ebe593-2a16-47d3-8867-de1b7d9126ee",
   "metadata": {},
   "outputs": [],
   "source": []
  },
  {
   "cell_type": "code",
   "execution_count": null,
   "id": "9e4b467c-63f5-4c2d-8c4c-788afd76583a",
   "metadata": {},
   "outputs": [],
   "source": []
  },
  {
   "cell_type": "code",
   "execution_count": null,
   "id": "5161d1ae-db3b-40cd-9732-87ed175e5ba5",
   "metadata": {},
   "outputs": [],
   "source": []
  },
  {
   "cell_type": "code",
   "execution_count": null,
   "id": "35d0ac1a-4fcc-4547-9005-4d78191d8f23",
   "metadata": {},
   "outputs": [],
   "source": []
  },
  {
   "cell_type": "code",
   "execution_count": null,
   "id": "de356abb-c67d-4cfa-aafd-f051c61e8bc0",
   "metadata": {},
   "outputs": [],
   "source": []
  },
  {
   "cell_type": "code",
   "execution_count": null,
   "id": "89eb94d6-e09b-4840-9e2c-3d36629a4bbf",
   "metadata": {},
   "outputs": [],
   "source": []
  },
  {
   "cell_type": "code",
   "execution_count": null,
   "id": "8db4507f-0422-4a68-a1f8-81bc695cefdf",
   "metadata": {},
   "outputs": [],
   "source": []
  }
 ],
 "metadata": {
  "kernelspec": {
   "display_name": "c-MET",
   "language": "python",
   "name": "c-met"
  },
  "language_info": {
   "codemirror_mode": {
    "name": "ipython",
    "version": 3
   },
   "file_extension": ".py",
   "mimetype": "text/x-python",
   "name": "python",
   "nbconvert_exporter": "python",
   "pygments_lexer": "ipython3",
   "version": "3.8.0"
  }
 },
 "nbformat": 4,
 "nbformat_minor": 5
}
